{
 "cells": [
  {
   "cell_type": "code",
   "execution_count": 1,
   "metadata": {},
   "outputs": [
    {
     "name": "stdout",
     "output_type": "stream",
     "text": [
      "<type 'int'>\n"
     ]
    }
   ],
   "source": [
    "# datatype ---->> type(var)---->> datatype of variable\n",
    "'''\n",
    "===>> Datatype are used for to specify the what type of data holded by variables\n",
    "'''\n",
    "# 1. fundamental datatype\n",
    "'''\n",
    "===>> A single variable which can hold only single data\n",
    "\n",
    "        1. int\n",
    "        2. float\n",
    "        3. bool ---->>> True / False\n",
    "        4. None ---->>> None\n",
    "        5. Complex -->>  real + img  ===>>>  x + yj\n",
    "\n",
    "\n",
    "'''\n",
    "var  = 345\n",
    "print type(var)"
   ]
  },
  {
   "cell_type": "code",
   "execution_count": 2,
   "metadata": {},
   "outputs": [
    {
     "name": "stdout",
     "output_type": "stream",
     "text": [
      "<type 'float'>\n"
     ]
    }
   ],
   "source": [
    "var =  34.575\n",
    "print type(var)"
   ]
  },
  {
   "cell_type": "code",
   "execution_count": 3,
   "metadata": {},
   "outputs": [
    {
     "name": "stdout",
     "output_type": "stream",
     "text": [
      "<type 'bool'>\n",
      "<type 'bool'>\n"
     ]
    }
   ],
   "source": [
    "var = True\n",
    "print  type(var)\n",
    "var = False\n",
    "print type(var)"
   ]
  },
  {
   "cell_type": "code",
   "execution_count": 4,
   "metadata": {},
   "outputs": [
    {
     "name": "stdout",
     "output_type": "stream",
     "text": [
      "<type 'NoneType'>\n"
     ]
    }
   ],
   "source": [
    "var =None\n",
    "print type(var)"
   ]
  },
  {
   "cell_type": "code",
   "execution_count": 6,
   "metadata": {},
   "outputs": [
    {
     "name": "stdout",
     "output_type": "stream",
     "text": [
      "<type 'complex'>\n"
     ]
    }
   ],
   "source": [
    "var = 56 + 45j\n",
    "print type(var)"
   ]
  },
  {
   "cell_type": "code",
   "execution_count": 8,
   "metadata": {},
   "outputs": [
    {
     "name": "stdout",
     "output_type": "stream",
     "text": [
      "<type 'bool'> <type 'bool'>\n"
     ]
    }
   ],
   "source": [
    "a = True\n",
    "b = False\n",
    "print type(a),type(b)"
   ]
  },
  {
   "cell_type": "code",
   "execution_count": 9,
   "metadata": {},
   "outputs": [
    {
     "name": "stdout",
     "output_type": "stream",
     "text": [
      "<type 'str'>\n"
     ]
    }
   ],
   "source": [
    "# 2. sequencial datatype\n",
    "'''\n",
    "===>>>A single varibale  can hold multiple data elements\n",
    "        1. str\n",
    "        2. list\n",
    "        3. tuple\n",
    "        4. set\n",
    "        5. dict\n",
    "'''\n",
    "# str-->> it can hold multiple character with in \"\"\n",
    "var = \"python programming language\"\n",
    "print type(var)"
   ]
  },
  {
   "cell_type": "code",
   "execution_count": 10,
   "metadata": {},
   "outputs": [
    {
     "name": "stdout",
     "output_type": "stream",
     "text": [
      "<type 'list'>\n"
     ]
    }
   ],
   "source": [
    "# list --->> it can hold multiple elements with in []\n",
    "var = [12, 5.345, True]\n",
    "print type(var)"
   ]
  },
  {
   "cell_type": "code",
   "execution_count": 11,
   "metadata": {},
   "outputs": [
    {
     "name": "stdout",
     "output_type": "stream",
     "text": [
      "<type 'tuple'>\n"
     ]
    }
   ],
   "source": [
    "# tuple --->> it can hold multiple elements with in ()\n",
    "var = (12, 5.345, True)\n",
    "print type(var)"
   ]
  },
  {
   "cell_type": "code",
   "execution_count": 12,
   "metadata": {},
   "outputs": [
    {
     "name": "stdout",
     "output_type": "stream",
     "text": [
      "<type 'set'>\n"
     ]
    }
   ],
   "source": [
    "# set --->> it can hold multiple elements with in {}\n",
    "var = {12, 5.345, True}\n",
    "print type(var)"
   ]
  },
  {
   "cell_type": "code",
   "execution_count": 13,
   "metadata": {},
   "outputs": [
    {
     "name": "stdout",
     "output_type": "stream",
     "text": [
      "<type 'dict'>\n"
     ]
    }
   ],
   "source": [
    "# dict --->> it can hold multiple items with in {}\n",
    "# item ---> pair of key & values --->   key :  value\n",
    "var = {34 : \"soc\",  45.34: 789}\n",
    "print type(var)"
   ]
  },
  {
   "cell_type": "code",
   "execution_count": 14,
   "metadata": {},
   "outputs": [
    {
     "name": "stdout",
     "output_type": "stream",
     "text": [
      "enter int : 789\n",
      "data in var :  789\n",
      "<type 'int'>\n",
      "memory loc :  55678672\n"
     ]
    }
   ],
   "source": [
    "# input() --->> reading the data from keyboard\n",
    "# print ---->> disply the daata on monitor\n",
    "# type() --->> to know the datatype of variable\n",
    "# id() ----->> to know the memory loc\n",
    "# wap read int and disply daata, type, memory\n",
    "var = input(\"enter int : \")\n",
    "print \"data in var : \",var\n",
    "print type(var)\n",
    "print \"memory loc : \",id(var)"
   ]
  },
  {
   "cell_type": "code",
   "execution_count": 15,
   "metadata": {},
   "outputs": [
    {
     "name": "stdout",
     "output_type": "stream",
     "text": [
      "enter float : 78.65544\n",
      "data in var :  78.65544\n",
      "<type 'float'>\n",
      "memory loc :  58642096\n"
     ]
    }
   ],
   "source": [
    "# wap read float and disply daata, type, memory\n",
    "var = input(\"enter float : \")\n",
    "print \"data in var : \",var\n",
    "print type(var)\n",
    "print \"memory loc : \",id(var)"
   ]
  },
  {
   "cell_type": "code",
   "execution_count": null,
   "metadata": {},
   "outputs": [],
   "source": [
    "# wap read complex and disply daata, type, memory\n",
    "# wap read bool and disply daata, type, memory\n",
    "# wap read None and disply daata, type, memory\n",
    "# wap read str and disply daata, type, memory\n",
    "# wap read list and disply daata, type, memory\n",
    "# wap read tuple and disply daata, type, memory\n",
    "# wap read set and disply daata, type, memory\n",
    "# wap read dict and disply daata, type, memory"
   ]
  }
 ],
 "metadata": {
  "kernelspec": {
   "display_name": "Python 2",
   "language": "python",
   "name": "python2"
  },
  "language_info": {
   "codemirror_mode": {
    "name": "ipython",
    "version": 2
   },
   "file_extension": ".py",
   "mimetype": "text/x-python",
   "name": "python",
   "nbconvert_exporter": "python",
   "pygments_lexer": "ipython2",
   "version": "2.7.17"
  }
 },
 "nbformat": 4,
 "nbformat_minor": 2
}
