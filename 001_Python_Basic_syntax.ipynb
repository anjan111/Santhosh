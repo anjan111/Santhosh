{
 "cells": [
  {
   "cell_type": "markdown",
   "metadata": {},
   "source": [
    "----->>> Syntax \n",
    "-----------------------\n",
    "\n",
    "--->> The Set of Rules / Structure  to write  a instructions\n",
    "\n",
    "---->>> Instruction\n",
    "---------------------------\n",
    "\n",
    "--->>> Set of commends / to do a specific task\n",
    "\n",
    "---->> A line of code with in program \n",
    "\n",
    "\n",
    "---->> Types\n",
    "-----------------\n",
    "\n",
    "1. Comments\n",
    "\n",
    "---->>>  A line of code it can't be executble\n",
    "\n",
    "---->>> Programer can write comments\n",
    "\n",
    "---->>> TO give the breif explanation for each and every statement\n",
    "\n",
    "\n",
    "2. Statements\n",
    "\n",
    "---->> An instruction which can be executable\n",
    "\n",
    "\n"
   ]
  },
  {
   "cell_type": "code",
   "execution_count": 2,
   "metadata": {},
   "outputs": [
    {
     "name": "stdout",
     "output_type": "stream",
     "text": [
      "hello\n",
      "hai\n",
      "123\n",
      "this is statement\n"
     ]
    }
   ],
   "source": [
    "# This is single line comment\n",
    "'''\n",
    "--->> This is \n",
    "\n",
    "the multiline \n",
    "\n",
    "comment\n",
    "'''\n",
    "\n",
    "print \"hello\" # statement \n",
    "print \"hai\"# statement\n",
    "a = 123  # statement\n",
    "print a # statement\n",
    "\n",
    "print '''this is statement'''"
   ]
  },
  {
   "cell_type": "code",
   "execution_count": 4,
   "metadata": {},
   "outputs": [
    {
     "name": "stdout",
     "output_type": "stream",
     "text": [
      "31\n",
      "['and', 'as', 'assert', 'break', 'class', 'continue', 'def', 'del', 'elif', 'else', 'except', 'exec', 'finally', 'for', 'from', 'global', 'if', 'import', 'in', 'is', 'lambda', 'not', 'or', 'pass', 'print', 'raise', 'return', 'try', 'while', 'with', 'yield']\n"
     ]
    }
   ],
   "source": [
    "# keywords\n",
    "'''\n",
    "\n",
    "====>>> which are predefined words \n",
    "====>>> each and every keyword is used for to do spefic task\n",
    "\n",
    "'''\n",
    "import keyword\n",
    "print len(keyword.kwlist)\n",
    "print keyword.kwlist"
   ]
  },
  {
   "cell_type": "code",
   "execution_count": 5,
   "metadata": {},
   "outputs": [
    {
     "name": "stdout",
     "output_type": "stream",
     "text": [
      "123\n"
     ]
    }
   ],
   "source": [
    "# Identifiers\n",
    "'''\n",
    "--->> User Defined Words\n",
    "--->> To give the names for variables, functions, classes,objects \n",
    "'''\n",
    "# Rules\n",
    "'''\n",
    "-->> we can use alphabets\n",
    "-->> we can use digits\n",
    "-->> we can use Underscore _\n",
    "-->> don't start with digit\n",
    "-->> don't use keywords\n",
    "-->> don't use special characters  !@#$%^&*()\n",
    "'''\n",
    "# variable\n",
    "'''\n",
    "===>>To hold the data with in memory loc\n",
    "===>>We can directly assig the data to the variable \n",
    "'''\n",
    "var = 123\n",
    "print var\n"
   ]
  },
  {
   "cell_type": "code",
   "execution_count": 6,
   "metadata": {},
   "outputs": [
    {
     "name": "stdout",
     "output_type": "stream",
     "text": [
      "123\n"
     ]
    }
   ],
   "source": [
    "_Va3_ = 123\n",
    "print _Va3_"
   ]
  },
  {
   "cell_type": "code",
   "execution_count": 7,
   "metadata": {},
   "outputs": [
    {
     "ename": "SyntaxError",
     "evalue": "invalid syntax (<ipython-input-7-28cd2c765fe0>, line 1)",
     "output_type": "error",
     "traceback": [
      "\u001b[1;36m  File \u001b[1;32m\"<ipython-input-7-28cd2c765fe0>\"\u001b[1;36m, line \u001b[1;32m1\u001b[0m\n\u001b[1;33m    5var =133\u001b[0m\n\u001b[1;37m       ^\u001b[0m\n\u001b[1;31mSyntaxError\u001b[0m\u001b[1;31m:\u001b[0m invalid syntax\n"
     ]
    }
   ],
   "source": [
    "5var =133\n",
    "print 5var"
   ]
  },
  {
   "cell_type": "code",
   "execution_count": 8,
   "metadata": {},
   "outputs": [
    {
     "ename": "SyntaxError",
     "evalue": "invalid syntax (<ipython-input-8-28965cad32b4>, line 1)",
     "output_type": "error",
     "traceback": [
      "\u001b[1;36m  File \u001b[1;32m\"<ipython-input-8-28965cad32b4>\"\u001b[1;36m, line \u001b[1;32m1\u001b[0m\n\u001b[1;33m    while =123\u001b[0m\n\u001b[1;37m          ^\u001b[0m\n\u001b[1;31mSyntaxError\u001b[0m\u001b[1;31m:\u001b[0m invalid syntax\n"
     ]
    }
   ],
   "source": [
    "while =123\n",
    "print while"
   ]
  },
  {
   "cell_type": "code",
   "execution_count": 10,
   "metadata": {},
   "outputs": [
    {
     "ename": "SyntaxError",
     "evalue": "invalid syntax (<ipython-input-10-17d68a962dc7>, line 1)",
     "output_type": "error",
     "traceback": [
      "\u001b[1;36m  File \u001b[1;32m\"<ipython-input-10-17d68a962dc7>\"\u001b[1;36m, line \u001b[1;32m1\u001b[0m\n\u001b[1;33m    w@7 =13\u001b[0m\n\u001b[1;37m     ^\u001b[0m\n\u001b[1;31mSyntaxError\u001b[0m\u001b[1;31m:\u001b[0m invalid syntax\n"
     ]
    }
   ],
   "source": [
    "w@7 =13"
   ]
  },
  {
   "cell_type": "code",
   "execution_count": null,
   "metadata": {},
   "outputs": [],
   "source": [
    "# Datatypes\n",
    "# Basic Built-in fuctiobs"
   ]
  }
 ],
 "metadata": {
  "kernelspec": {
   "display_name": "Python 2",
   "language": "python",
   "name": "python2"
  },
  "language_info": {
   "codemirror_mode": {
    "name": "ipython",
    "version": 2
   },
   "file_extension": ".py",
   "mimetype": "text/x-python",
   "name": "python",
   "nbconvert_exporter": "python",
   "pygments_lexer": "ipython2",
   "version": "2.7.17"
  }
 },
 "nbformat": 4,
 "nbformat_minor": 2
}
