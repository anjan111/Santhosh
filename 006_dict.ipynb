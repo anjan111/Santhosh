{
 "cells": [
  {
   "cell_type": "code",
   "execution_count": 2,
   "metadata": {},
   "outputs": [
    {
     "name": "stdout",
     "output_type": "stream",
     "text": [
      "{45.5: (6+3j), 12: 'soc'}\n",
      "<type 'dict'>\n"
     ]
    }
   ],
   "source": [
    "#dict --> collection of items (pair of key and value) with in {}\n",
    "# dict is also unorder datatype\n",
    "var ={12: \"soc\",  45.5 : 6+3j }\n",
    "print var\n",
    "print type(var)"
   ]
  },
  {
   "cell_type": "code",
   "execution_count": 3,
   "metadata": {},
   "outputs": [
    {
     "name": "stdout",
     "output_type": "stream",
     "text": [
      "{45.5: (6+3j), 12: 'soft'}\n",
      "<type 'dict'>\n"
     ]
    }
   ],
   "source": [
    "# duplicate key items or not allowes\n",
    "var ={12: \"soc\",  45.5 : 6+3j ,12: \"soft\"}\n",
    "print var\n",
    "print type(var)"
   ]
  },
  {
   "cell_type": "code",
   "execution_count": 4,
   "metadata": {},
   "outputs": [
    {
     "name": "stdout",
     "output_type": "stream",
     "text": [
      "{45.5: 'soc', 12: 'soc'}\n",
      "<type 'dict'>\n"
     ]
    }
   ],
   "source": [
    "var ={12: \"soc\",  45.5 : \"soc\" }\n",
    "print var\n",
    "print type(var)"
   ]
  },
  {
   "cell_type": "code",
   "execution_count": 5,
   "metadata": {},
   "outputs": [
    {
     "name": "stdout",
     "output_type": "stream",
     "text": [
      "{34.89: 56, 12: 'soc', True: [1, 2, 3], (4+6j): 23.89, None: 123}\n"
     ]
    }
   ],
   "source": [
    "#we can use any datatype elements as a values\n",
    "# we can use some specific datatype elementns as keys\n",
    "a = {12:\"soc\", 34.89:56, 4+6j:23.89 , None : 123 , True : [1,2,3]}\n",
    "print a"
   ]
  },
  {
   "cell_type": "code",
   "execution_count": 6,
   "metadata": {},
   "outputs": [
    {
     "name": "stdout",
     "output_type": "stream",
     "text": [
      "{'soc': set([1, 2, 3]), (1, 23): {23: 56}}\n"
     ]
    }
   ],
   "source": [
    "a = {\"soc\":{1,2,3}, (1,23):{23:56}}\n",
    "print a"
   ]
  },
  {
   "cell_type": "code",
   "execution_count": 7,
   "metadata": {},
   "outputs": [
    {
     "ename": "TypeError",
     "evalue": "unhashable type: 'list'",
     "output_type": "error",
     "traceback": [
      "\u001b[1;31m---------------------------------------------------------------------------\u001b[0m",
      "\u001b[1;31mTypeError\u001b[0m                                 Traceback (most recent call last)",
      "\u001b[1;32m<ipython-input-7-1ad16e71b938>\u001b[0m in \u001b[0;36m<module>\u001b[1;34m()\u001b[0m\n\u001b[1;32m----> 1\u001b[1;33m \u001b[0ma\u001b[0m \u001b[1;33m=\u001b[0m \u001b[1;33m{\u001b[0m\u001b[1;33m[\u001b[0m\u001b[1;36m1\u001b[0m\u001b[1;33m,\u001b[0m\u001b[1;36m2\u001b[0m\u001b[1;33m,\u001b[0m\u001b[1;36m3\u001b[0m\u001b[1;33m]\u001b[0m\u001b[1;33m:\u001b[0m\u001b[1;34m\"soc\"\u001b[0m\u001b[1;33m}\u001b[0m\u001b[1;33m\u001b[0m\u001b[0m\n\u001b[0m",
      "\u001b[1;31mTypeError\u001b[0m: unhashable type: 'list'"
     ]
    }
   ],
   "source": [
    "a = {[1,2,3]:\"soc\"}"
   ]
  },
  {
   "cell_type": "code",
   "execution_count": 8,
   "metadata": {},
   "outputs": [
    {
     "ename": "TypeError",
     "evalue": "unhashable type: 'set'",
     "output_type": "error",
     "traceback": [
      "\u001b[1;31m---------------------------------------------------------------------------\u001b[0m",
      "\u001b[1;31mTypeError\u001b[0m                                 Traceback (most recent call last)",
      "\u001b[1;32m<ipython-input-8-3787581e023a>\u001b[0m in \u001b[0;36m<module>\u001b[1;34m()\u001b[0m\n\u001b[1;32m----> 1\u001b[1;33m \u001b[0ma\u001b[0m \u001b[1;33m=\u001b[0m \u001b[1;33m{\u001b[0m\u001b[1;33m{\u001b[0m\u001b[1;36m1\u001b[0m\u001b[1;33m,\u001b[0m\u001b[1;36m2\u001b[0m\u001b[1;33m,\u001b[0m\u001b[1;36m3\u001b[0m\u001b[1;33m}\u001b[0m\u001b[1;33m:\u001b[0m\u001b[1;34m\"soc\"\u001b[0m\u001b[1;33m}\u001b[0m\u001b[1;33m\u001b[0m\u001b[0m\n\u001b[0m",
      "\u001b[1;31mTypeError\u001b[0m: unhashable type: 'set'"
     ]
    }
   ],
   "source": [
    "a = {{1,2,3}:\"soc\"}"
   ]
  },
  {
   "cell_type": "code",
   "execution_count": 9,
   "metadata": {},
   "outputs": [
    {
     "ename": "TypeError",
     "evalue": "unhashable type: 'dict'",
     "output_type": "error",
     "traceback": [
      "\u001b[1;31m---------------------------------------------------------------------------\u001b[0m",
      "\u001b[1;31mTypeError\u001b[0m                                 Traceback (most recent call last)",
      "\u001b[1;32m<ipython-input-9-5257d8c6e994>\u001b[0m in \u001b[0;36m<module>\u001b[1;34m()\u001b[0m\n\u001b[1;32m----> 1\u001b[1;33m \u001b[0ma\u001b[0m \u001b[1;33m=\u001b[0m \u001b[1;33m{\u001b[0m\u001b[1;33m{\u001b[0m\u001b[1;36m1\u001b[0m\u001b[1;33m:\u001b[0m\u001b[1;36m3\u001b[0m\u001b[1;33m}\u001b[0m\u001b[1;33m:\u001b[0m\u001b[1;34m\"soc\"\u001b[0m\u001b[1;33m}\u001b[0m\u001b[1;33m\u001b[0m\u001b[0m\n\u001b[0m",
      "\u001b[1;31mTypeError\u001b[0m: unhashable type: 'dict'"
     ]
    }
   ],
   "source": [
    "a = {{1:3}:\"soc\"}"
   ]
  },
  {
   "cell_type": "code",
   "execution_count": 11,
   "metadata": {},
   "outputs": [
    {
     "name": "stdout",
     "output_type": "stream",
     "text": [
      "{34.89: 56, 12: 'soc', True: [1, 2, 3], (4+6j): 23.89, None: 123}\n",
      "5\n",
      "{}\n"
     ]
    }
   ],
   "source": [
    "a = {12:\"soc\", 34.89:56, 4+6j:23.89 , None : 123 , True : [1,2,3]}\n",
    "print a\n",
    "print len(a)\n",
    "a.clear()\n",
    "print a"
   ]
  },
  {
   "cell_type": "code",
   "execution_count": 12,
   "metadata": {},
   "outputs": [
    {
     "name": "stdout",
     "output_type": "stream",
     "text": [
      "{34.89: 56, 12: 'soc', True: [1, 2, 3], (4+6j): 23.89, None: 123}\n",
      "{12: 'soc', None: 123, 34.89: 56, (4+6j): 23.89, True: [1, 2, 3]}\n",
      "76220344\n",
      "77321080\n"
     ]
    }
   ],
   "source": [
    "a = {12:\"soc\", 34.89:56, 4+6j:23.89 , None : 123 , True : [1,2,3]}\n",
    "print a\n",
    "b = a.copy()\n",
    "print b\n",
    "print id(a)\n",
    "print id(b)"
   ]
  },
  {
   "cell_type": "code",
   "execution_count": 13,
   "metadata": {},
   "outputs": [
    {
     "name": "stdout",
     "output_type": "stream",
     "text": [
      "[56, 'soc', [1, 2, 3], 23.89, 123]\n",
      "[34.89, 12, True, (4+6j), None]\n",
      "[(34.89, 56), (12, 'soc'), (True, [1, 2, 3]), ((4+6j), 23.89), (None, 123)]\n"
     ]
    }
   ],
   "source": [
    "a = {12:\"soc\", 34.89:56, 4+6j:23.89 , None : 123 , True : [1,2,3]}\n",
    "print a.values()\n",
    "print a.keys()\n",
    "print a.items()\n"
   ]
  },
  {
   "cell_type": "code",
   "execution_count": 14,
   "metadata": {},
   "outputs": [
    {
     "name": "stdout",
     "output_type": "stream",
     "text": [
      "{34.89: 56, 12: 'soc', True: [1, 2, 3], (4+6j): 23.89, None: 123}\n",
      "123\n",
      "{34.89: 56, 12: 'soc', True: [1, 2, 3], (4+6j): 23.89}\n",
      "(34.89, 56)\n",
      "{12: 'soc', True: [1, 2, 3], (4+6j): 23.89}\n",
      "(12, 'soc')\n",
      "{True: [1, 2, 3], (4+6j): 23.89}\n"
     ]
    }
   ],
   "source": [
    "a = {12:\"soc\", 34.89:56, 4+6j:23.89 , None : 123 , True : [1,2,3]}\n",
    "print a\n",
    "print a.pop(None)\n",
    "print a\n",
    "print a.popitem()\n",
    "print a\n",
    "print a.popitem()\n",
    "print a"
   ]
  },
  {
   "cell_type": "code",
   "execution_count": 15,
   "metadata": {},
   "outputs": [
    {
     "name": "stdout",
     "output_type": "stream",
     "text": [
      "{123: 56}\n",
      "{True: [1, 2, 3], 34.89: 56, (4+6j): 23.89, None: 123, 123: 56, 12: 'soc'}\n"
     ]
    }
   ],
   "source": [
    "a = {12:\"soc\", 34.89:56, 4+6j:23.89 , None : 123 , True : [1,2,3]}\n",
    "b= {123 :56}\n",
    "print b\n",
    "b.update(a)\n",
    "print b"
   ]
  },
  {
   "cell_type": "code",
   "execution_count": 16,
   "metadata": {},
   "outputs": [
    {
     "name": "stdout",
     "output_type": "stream",
     "text": [
      "['__class__', '__cmp__', '__contains__', '__delattr__', '__delitem__', '__doc__', '__eq__', '__format__', '__ge__', '__getattribute__', '__getitem__', '__gt__', '__hash__', '__init__', '__iter__', '__le__', '__len__', '__lt__', '__ne__', '__new__', '__reduce__', '__reduce_ex__', '__repr__', '__setattr__', '__setitem__', '__sizeof__', '__str__', '__subclasshook__', 'clear', 'copy', 'fromkeys', 'get', 'has_key', 'items', 'iteritems', 'iterkeys', 'itervalues', 'keys', 'pop', 'popitem', 'setdefault', 'update', 'values', 'viewitems', 'viewkeys', 'viewvalues']\n"
     ]
    }
   ],
   "source": [
    "print dir(dict)"
   ]
  },
  {
   "cell_type": "code",
   "execution_count": 17,
   "metadata": {},
   "outputs": [
    {
     "name": "stdout",
     "output_type": "stream",
     "text": [
      "{123: 56, 12: 'soc sof'}\n",
      "{True: [1, 2, 3], 34.89: 56, (4+6j): 23.89, None: 123, 123: 56, 12: 'soc'}\n"
     ]
    }
   ],
   "source": [
    "a = {12:\"soc\", 34.89:56, 4+6j:23.89 , None : 123 , True : [1,2,3]}\n",
    "b= {123 :56,12:\"soc sof\",}\n",
    "print b\n",
    "b.update(a)\n",
    "print b"
   ]
  },
  {
   "cell_type": "code",
   "execution_count": 18,
   "metadata": {},
   "outputs": [
    {
     "name": "stdout",
     "output_type": "stream",
     "text": [
      "23.89\n"
     ]
    }
   ],
   "source": [
    "a = {12:\"soc\", 34.89:56, 4+6j:23.89 , None : 123 , True : [1,2,3]}\n",
    "print a.get(4+6j)"
   ]
  },
  {
   "cell_type": "code",
   "execution_count": null,
   "metadata": {},
   "outputs": [],
   "source": []
  }
 ],
 "metadata": {
  "kernelspec": {
   "display_name": "Python 2",
   "language": "python",
   "name": "python2"
  },
  "language_info": {
   "codemirror_mode": {
    "name": "ipython",
    "version": 2
   },
   "file_extension": ".py",
   "mimetype": "text/x-python",
   "name": "python",
   "nbconvert_exporter": "python",
   "pygments_lexer": "ipython2",
   "version": "2.7.16"
  }
 },
 "nbformat": 4,
 "nbformat_minor": 2
}
