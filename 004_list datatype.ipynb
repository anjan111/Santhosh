{
 "cells": [
  {
   "cell_type": "code",
   "execution_count": 1,
   "metadata": {},
   "outputs": [
    {
     "name": "stdout",
     "output_type": "stream",
     "text": [
      "[12, 4.4, (3+4j), None, True, 'soc', [1, 2], (1, 2), set([1, 2]), {12: 45}]\n",
      "<type 'list'>\n"
     ]
    }
   ],
   "source": [
    "# list datatype --> group of elements []\n",
    "# Hetrogenious datatype\n",
    "var = [12, 4.4,3+4j,None,True,\"soc\",[1,2],(1,2),{1,2},{12:45}]\n",
    "print var\n",
    "print type(var)"
   ]
  },
  {
   "cell_type": "code",
   "execution_count": 2,
   "metadata": {},
   "outputs": [
    {
     "name": "stdout",
     "output_type": "stream",
     "text": [
      "Positive index\n",
      "12\n",
      "4.4\n",
      "(3+4j)\n",
      "None\n",
      "{12: 45}\n"
     ]
    }
   ],
   "source": [
    "# list indexing --> positive index , negative index\n",
    "var = [12, 4.4,3+4j,None,True,\"soc\",[1,2],(1,2),{1,2},{12:45}]\n",
    "print \"Positive index\"\n",
    "print var[0]\n",
    "print var[1]\n",
    "print var[2]\n",
    "print var[3]\n",
    "print var[9]\n"
   ]
  },
  {
   "cell_type": "code",
   "execution_count": 3,
   "metadata": {},
   "outputs": [
    {
     "name": "stdout",
     "output_type": "stream",
     "text": [
      "Negative index\n",
      "{12: 45}\n",
      "set([1, 2])\n",
      "(1, 2)\n",
      "4.4\n",
      "12\n"
     ]
    }
   ],
   "source": [
    "# list indexing --> positive index , negative index\n",
    "var = [12, 4.4,3+4j,None,True,\"soc\",[1,2],(1,2),{1,2},{12:45}]\n",
    "print \"Negative index\"\n",
    "print var[-1]\n",
    "print var[-2]\n",
    "print var[-3]\n",
    "print var[-9]\n",
    "print var[-10]\n"
   ]
  },
  {
   "cell_type": "code",
   "execution_count": 4,
   "metadata": {},
   "outputs": [
    {
     "name": "stdout",
     "output_type": "stream",
     "text": [
      "[(3+4j), None, True, 'soc', [1, 2], (1, 2)]\n",
      "[12, 4.4, (3+4j), None, True, 'soc', [1, 2], (1, 2)]\n",
      "[(3+4j), None, True, 'soc', [1, 2], (1, 2), set([1, 2]), {12: 45}]\n"
     ]
    }
   ],
   "source": [
    "# list slicing  ---->> var[ start : stop]\n",
    "var = [12, 4.4,3+4j,None,True,\"soc\",[1,2],(1,2),{1,2},{12:45}]\n",
    "print var[2:8]\n",
    "print var[:8]#start ---> 0\n",
    "print var[2:]# stop ---> len(list)"
   ]
  },
  {
   "cell_type": "code",
   "execution_count": 6,
   "metadata": {},
   "outputs": [
    {
     "name": "stdout",
     "output_type": "stream",
     "text": [
      "[(3+4j), 'soc', set([1, 2])]\n",
      "[(3+4j), None, True, 'soc', [1, 2], (1, 2), set([1, 2])]\n",
      "[12, None, [1, 2]]\n",
      "[(3+4j), 'soc', set([1, 2])]\n"
     ]
    }
   ],
   "source": [
    "# list dicing ---> var[ start  :  stop  : step ]\n",
    "var = [12, 4.4,3+4j,None,True,\"soc\",[1,2],(1,2),{1,2},{12:45}]\n",
    "print var[2:9:3]\n",
    "print var[2:9:]# step ---> 1\n",
    "print var[:9:3]# start --> 0\n",
    "print var[2::3]# stop ---> len(list)"
   ]
  },
  {
   "cell_type": "code",
   "execution_count": 7,
   "metadata": {},
   "outputs": [
    {
     "name": "stdout",
     "output_type": "stream",
     "text": [
      "[5, 2]\n"
     ]
    }
   ],
   "source": [
    "var = [[1,5,2,5], [5,9]]\n",
    "print var[0][1:3]"
   ]
  },
  {
   "cell_type": "code",
   "execution_count": 8,
   "metadata": {},
   "outputs": [
    {
     "name": "stdout",
     "output_type": "stream",
     "text": [
      "[12, 45, 90]\n",
      "[12, 450, 90]\n"
     ]
    }
   ],
   "source": [
    "# list is mutable datatype \n",
    "var = [12,45,90]\n",
    "print var\n",
    "var[1] = 450\n",
    "print var"
   ]
  },
  {
   "cell_type": "code",
   "execution_count": 9,
   "metadata": {},
   "outputs": [
    {
     "name": "stdout",
     "output_type": "stream",
     "text": [
      "['__add__', '__class__', '__contains__', '__delattr__', '__delitem__', '__delslice__', '__doc__', '__eq__', '__format__', '__ge__', '__getattribute__', '__getitem__', '__getslice__', '__gt__', '__hash__', '__iadd__', '__imul__', '__init__', '__iter__', '__le__', '__len__', '__lt__', '__mul__', '__ne__', '__new__', '__reduce__', '__reduce_ex__', '__repr__', '__reversed__', '__rmul__', '__setattr__', '__setitem__', '__setslice__', '__sizeof__', '__str__', '__subclasshook__', 'append', 'count', 'extend', 'index', 'insert', 'pop', 'remove', 'reverse', 'sort']\n"
     ]
    }
   ],
   "source": [
    "# list manipulations \n",
    "print dir(list)"
   ]
  },
  {
   "cell_type": "code",
   "execution_count": 10,
   "metadata": {},
   "outputs": [
    {
     "name": "stdout",
     "output_type": "stream",
     "text": [
      "[3, 9, 3]\n",
      "[3, 9, 3, 45]\n",
      "[3, 9, 3, 45, 100]\n"
     ]
    }
   ],
   "source": [
    "var = [3,9,3]\n",
    "print var\n",
    "var.append(45)\n",
    "print var\n",
    "var.append(100)\n",
    "print var"
   ]
  },
  {
   "cell_type": "code",
   "execution_count": 11,
   "metadata": {},
   "outputs": [
    {
     "name": "stdout",
     "output_type": "stream",
     "text": [
      "4\n",
      "2\n"
     ]
    }
   ],
   "source": [
    "var = [5,9,3,5,9,5,0,5]\n",
    "print var.count(5)\n",
    "print var.count(9)\n"
   ]
  },
  {
   "cell_type": "code",
   "execution_count": 12,
   "metadata": {},
   "outputs": [
    {
     "name": "stdout",
     "output_type": "stream",
     "text": [
      "[5, 6, 7]\n",
      "[9, 4, 6]\n",
      "[5, 6, 7]\n",
      "[9, 4, 6, 5, 6, 7]\n"
     ]
    }
   ],
   "source": [
    "a = [5,6,7]\n",
    "b = [9,4,6]\n",
    "print a\n",
    "print b\n",
    "b.extend(a)\n",
    "print a\n",
    "print b"
   ]
  },
  {
   "cell_type": "code",
   "execution_count": 14,
   "metadata": {},
   "outputs": [
    {
     "name": "stdout",
     "output_type": "stream",
     "text": [
      "2\n",
      "0\n"
     ]
    }
   ],
   "source": [
    "var = [8,6,0,56]\n",
    "print var.index(0)\n",
    "print var.index(8)"
   ]
  },
  {
   "cell_type": "code",
   "execution_count": 16,
   "metadata": {},
   "outputs": [
    {
     "name": "stdout",
     "output_type": "stream",
     "text": [
      "[5, 9, 100, 67, 34, 90]\n"
     ]
    }
   ],
   "source": [
    "var= [5,9,67,34,90]\n",
    "var.insert(2,100)\n",
    "print var"
   ]
  },
  {
   "cell_type": "code",
   "execution_count": 20,
   "metadata": {},
   "outputs": [
    {
     "name": "stdout",
     "output_type": "stream",
     "text": [
      "[5, 9, 67, 34, 90, 100]\n"
     ]
    }
   ],
   "source": [
    "var= [5,9,67,34,90]\n",
    "var.insert(len(var),100)\n",
    "print var"
   ]
  },
  {
   "cell_type": "code",
   "execution_count": 17,
   "metadata": {},
   "outputs": [
    {
     "name": "stdout",
     "output_type": "stream",
     "text": [
      "90\n",
      "[5, 9, 67, 34]\n",
      "67\n",
      "[5, 9, 34]\n"
     ]
    }
   ],
   "source": [
    "var= [5,9,67,34,90]\n",
    "print var.pop()# last element\n",
    "print var\n",
    "print var.pop(2)# 67---> removes \n",
    "print var"
   ]
  },
  {
   "cell_type": "code",
   "execution_count": 18,
   "metadata": {},
   "outputs": [
    {
     "name": "stdout",
     "output_type": "stream",
     "text": [
      "[5, 9, 67, 34, 90]\n",
      "[5, 9, 34, 90]\n"
     ]
    }
   ],
   "source": [
    "var= [5,9,67,34,90]\n",
    "print var\n",
    "var.remove(67)\n",
    "print var"
   ]
  },
  {
   "cell_type": "code",
   "execution_count": 21,
   "metadata": {},
   "outputs": [
    {
     "name": "stdout",
     "output_type": "stream",
     "text": [
      "[5, 9, 67, 34, 90]\n",
      "[90, 34, 67, 9, 5]\n"
     ]
    }
   ],
   "source": [
    "var= [5,9,67,34,90]\n",
    "print var\n",
    "var.reverse()\n",
    "print var"
   ]
  },
  {
   "cell_type": "code",
   "execution_count": 22,
   "metadata": {},
   "outputs": [
    {
     "name": "stdout",
     "output_type": "stream",
     "text": [
      "[5, 9, 67, 34, 90]\n",
      "[5, 9, 34, 67, 90]\n"
     ]
    }
   ],
   "source": [
    "var= [5,9,67,34,90]\n",
    "print var\n",
    "var.sort()\n",
    "print var"
   ]
  },
  {
   "cell_type": "code",
   "execution_count": null,
   "metadata": {},
   "outputs": [],
   "source": []
  }
 ],
 "metadata": {
  "kernelspec": {
   "display_name": "Python 2",
   "language": "python",
   "name": "python2"
  },
  "language_info": {
   "codemirror_mode": {
    "name": "ipython",
    "version": 2
   },
   "file_extension": ".py",
   "mimetype": "text/x-python",
   "name": "python",
   "nbconvert_exporter": "python",
   "pygments_lexer": "ipython2",
   "version": "2.7.16"
  }
 },
 "nbformat": 4,
 "nbformat_minor": 2
}
